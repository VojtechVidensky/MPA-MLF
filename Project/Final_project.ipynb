{
  "nbformat": 4,
  "nbformat_minor": 0,
  "metadata": {
    "colab": {
      "provenance": [],
      "gpuType": "T4",
      "authorship_tag": "ABX9TyNzD6z/W67rKDRKKAaVD5Lp",
      "include_colab_link": true
    },
    "kernelspec": {
      "name": "python3",
      "display_name": "Python 3"
    },
    "language_info": {
      "name": "python"
    },
    "accelerator": "GPU"
  },
  "cells": [
    {
      "cell_type": "markdown",
      "metadata": {
        "id": "view-in-github",
        "colab_type": "text"
      },
      "source": [
        "<a href=\"https://colab.research.google.com/github/VojtechVidensky/MPA-MLF/blob/main/Project/Final_project.ipynb\" target=\"_parent\"><img src=\"https://colab.research.google.com/assets/colab-badge.svg\" alt=\"Open In Colab\"/></a>"
      ]
    },
    {
      "cell_type": "markdown",
      "source": [
        "**Import libraries**"
      ],
      "metadata": {
        "id": "_rnRWFLjbbe4"
      }
    },
    {
      "cell_type": "code",
      "execution_count": 21,
      "metadata": {
        "id": "23IU-efzRogG"
      },
      "outputs": [],
      "source": [
        "from keras.models import Sequential\n",
        "from keras.layers import Dense, Flatten, Dropout, Conv2D, MaxPooling2D\n",
        "from keras.optimizers import Adam\n",
        "from keras.datasets import cifar10\n",
        "from keras.utils import to_categorical\n",
        "import matplotlib.pyplot as plt\n",
        "import matplotlib\n",
        "import numpy as np\n",
        "import cv2\n",
        "\n",
        "import os\n",
        "import random\n",
        "from PIL import Image\n",
        "import pandas as pd\n",
        "import tensorflow as tf\n",
        "from sklearn.model_selection import train_test_split\n",
        "from tensorflow.keras.preprocessing.image import load_img, img_to_array\n",
        "from tensorflow.keras.utils import to_categorical\n",
        "\n",
        "font = {'weight' : 'bold',\n",
        "        'size'   : 12}\n",
        "\n",
        "matplotlib.rc('font', **font)"
      ]
    },
    {
      "cell_type": "code",
      "source": [
        "from google.colab import drive\n",
        "drive.mount('/content/drive')"
      ],
      "metadata": {
        "colab": {
          "base_uri": "https://localhost:8080/"
        },
        "id": "YF-7uRD7wQkB",
        "outputId": "cafdf688-16d4-4ade-c1aa-2325bcdb4d32"
      },
      "execution_count": 2,
      "outputs": [
        {
          "output_type": "stream",
          "name": "stdout",
          "text": [
            "Mounted at /content/drive\n"
          ]
        }
      ]
    },
    {
      "cell_type": "code",
      "source": [
        "image_train_dir = '/content/drive/MyDrive/MLF_Final_project/Train_data/train_data_unlabeled/'\n",
        "image_test_dir = '/content/drive/MyDrive/MLF_Final_project/Test_data/test_data_unlabeled/'\n",
        "csv_file_path = '/content/drive/MyDrive/MLF_Final_project/y_train.csv'"
      ],
      "metadata": {
        "id": "sPMOfYfFcXU6"
      },
      "execution_count": 3,
      "outputs": []
    },
    {
      "cell_type": "code",
      "source": [
        "labels_df = pd.read_csv(csv_file_path)\n",
        "labels_df.index = labels_df.index + 1\n",
        "print(labels_df.head())"
      ],
      "metadata": {
        "id": "iD-v84SncXiF",
        "colab": {
          "base_uri": "https://localhost:8080/"
        },
        "outputId": "64a6a2c9-670d-49bb-b990-d0e08f3467f8"
      },
      "execution_count": 4,
      "outputs": [
        {
          "output_type": "stream",
          "name": "stdout",
          "text": [
            "   id  target\n",
            "1   0       0\n",
            "2   1       1\n",
            "3   2       0\n",
            "4   3       2\n",
            "5   4       2\n"
          ]
        }
      ]
    },
    {
      "cell_type": "code",
      "source": [
        "def show_random_images(image_dir, num_images=6):\n",
        "    images = os.listdir(image_dir)\n",
        "    selected_images = random.sample(images, num_images)\n",
        "\n",
        "    plt.figure(figsize=(20, 10))\n",
        "    for i, image_name in enumerate(selected_images):\n",
        "      image_path = os.path.join(image_dir, image_name)\n",
        "      image = Image.open(image_path)\n",
        "      monochrome_image = image.convert('L')\n",
        "      plt.subplot(1, num_images, i+1)\n",
        "      plt.imshow(monochrome_image, cmap='gray')\n",
        "      plt.axis('off')\n",
        "      plt.title(image_name)\n",
        "    plt.show()\n",
        "\n",
        "show_random_images(image_train_dir)"
      ],
      "metadata": {
        "colab": {
          "base_uri": "https://localhost:8080/",
          "height": 136
        },
        "id": "Plwh6-iuw2y-",
        "outputId": "459246c4-5100-468b-ca4f-4512a92472ba"
      },
      "execution_count": 5,
      "outputs": [
        {
          "output_type": "display_data",
          "data": {
            "text/plain": [
              "<Figure size 2000x1000 with 6 Axes>"
            ],
            "image/png": "[encoded data removed]"
          },
          "metadata": {}
        }
      ]
    },
    {
      "cell_type": "code",
      "source": [
        "images = []\n",
        "labels = []\n",
        "\n",
        "image_height = 128\n",
        "image_width = 128\n",
        "\n",
        "for index, row in labels_df.iterrows():\n",
        "    image_path = os.path.join(image_train_dir, 'img_' + str(row['id'] + 1) + '.png')\n",
        "    image = load_img(image_path, target_size=(image_height, image_width), color_mode='grayscale')\n",
        "    image = img_to_array(image)\n",
        "    images.append(image)\n",
        "    labels.append(row['target'])\n",
        "\n",
        "images = np.array(images)\n",
        "labels = np.array(labels)\n",
        "\n",
        "images = images / 255.0\n",
        "\n",
        "train_images, val_images, train_labels, val_labels = train_test_split(images, labels, test_size=0.2, random_state=42)\n",
        "\n",
        "train_labels = to_categorical(train_labels)\n",
        "val_labels = to_categorical(val_labels)\n",
        "\n"
      ],
      "metadata": {
        "id": "p82nmZ5u6ZCS"
      },
      "execution_count": 6,
      "outputs": []
    },
    {
      "cell_type": "code",
      "source": [
        "model = Sequential([\n",
        "    Conv2D(32, (3, 3), activation='relu', input_shape=(image_height, image_width, 1)),\n",
        "    MaxPooling2D((2, 2)),\n",
        "    Conv2D(64, (3, 3), activation='relu'),\n",
        "    MaxPooling2D((2, 2)),\n",
        "    Conv2D(64, (3, 3), activation='relu'),\n",
        "    Flatten(),\n",
        "    Dense(64, activation='relu'),\n",
        "    Dense(4, activation='softmax')\n",
        "])"
      ],
      "metadata": {
        "id": "FhQpBiuZ43oO"
      },
      "execution_count": 24,
      "outputs": []
    },
    {
      "cell_type": "code",
      "source": [
        "model.compile(optimizer='adam', loss='categorical_crossentropy', metrics=['accuracy'])\n",
        "model.summary()"
      ],
      "metadata": {
        "colab": {
          "base_uri": "https://localhost:8080/"
        },
        "id": "MEoTEPeO5ucZ",
        "outputId": "bbbbf38b-4ee0-4336-c11e-50be84c84dc0"
      },
      "execution_count": 25,
      "outputs": [
        {
          "output_type": "stream",
          "name": "stdout",
          "text": [
            "Model: \"sequential_1\"\n",
            "_________________________________________________________________\n",
            " Layer (type)                Output Shape              Param #   \n",
            "=================================================================\n",
            " conv2d_3 (Conv2D)           (None, 126, 126, 32)      320       \n",
            "                                                                 \n",
            " max_pooling2d_2 (MaxPoolin  (None, 63, 63, 32)        0         \n",
            " g2D)                                                            \n",
            "                                                                 \n",
            " conv2d_4 (Conv2D)           (None, 61, 61, 64)        18496     \n",
            "                                                                 \n",
            " max_pooling2d_3 (MaxPoolin  (None, 30, 30, 64)        0         \n",
            " g2D)                                                            \n",
            "                                                                 \n",
            " conv2d_5 (Conv2D)           (None, 28, 28, 64)        36928     \n",
            "                                                                 \n",
            " flatten_1 (Flatten)         (None, 50176)             0         \n",
            "                                                                 \n",
            " dense_2 (Dense)             (None, 64)                3211328   \n",
            "                                                                 \n",
            " dense_3 (Dense)             (None, 4)                 260       \n",
            "                                                                 \n",
            "=================================================================\n",
            "Total params: 3267332 (12.46 MB)\n",
            "Trainable params: 3267332 (12.46 MB)\n",
            "Non-trainable params: 0 (0.00 Byte)\n",
            "_________________________________________________________________\n"
          ]
        }
      ]
    },
    {
      "cell_type": "code",
      "source": [
        "history = model.fit(train_images, train_labels, epochs=15, batch_size=32, validation_data=(val_images, val_labels))"
      ],
      "metadata": {
        "colab": {
          "base_uri": "https://localhost:8080/"
        },
        "id": "QHAUxdTuBeGW",
        "outputId": "0ce2ad8c-fcb3-4f5e-c1bf-b0f035b8ede8"
      },
      "execution_count": 26,
      "outputs": [
        {
          "output_type": "stream",
          "name": "stdout",
          "text": [
            "Epoch 1/15\n",
            "405/405 [==============================] - 17s 21ms/step - loss: 0.5937 - accuracy: 0.7524 - val_loss: 0.3482 - val_accuracy: 0.8579\n",
            "Epoch 2/15\n",
            "405/405 [==============================] - 7s 17ms/step - loss: 0.2782 - accuracy: 0.8925 - val_loss: 0.2261 - val_accuracy: 0.9113\n",
            "Epoch 3/15\n",
            "405/405 [==============================] - 7s 18ms/step - loss: 0.1702 - accuracy: 0.9356 - val_loss: 0.1961 - val_accuracy: 0.9302\n",
            "Epoch 4/15\n",
            "405/405 [==============================] - 7s 17ms/step - loss: 0.1169 - accuracy: 0.9559 - val_loss: 0.1553 - val_accuracy: 0.9410\n",
            "Epoch 5/15\n",
            "405/405 [==============================] - 7s 18ms/step - loss: 0.0778 - accuracy: 0.9714 - val_loss: 0.1440 - val_accuracy: 0.9496\n",
            "Epoch 6/15\n",
            "405/405 [==============================] - 7s 17ms/step - loss: 0.0527 - accuracy: 0.9795 - val_loss: 0.2073 - val_accuracy: 0.9320\n",
            "Epoch 7/15\n",
            "405/405 [==============================] - 7s 18ms/step - loss: 0.0378 - accuracy: 0.9883 - val_loss: 0.1775 - val_accuracy: 0.9503\n",
            "Epoch 8/15\n",
            "405/405 [==============================] - 7s 17ms/step - loss: 0.0311 - accuracy: 0.9888 - val_loss: 0.1810 - val_accuracy: 0.9435\n",
            "Epoch 9/15\n",
            "405/405 [==============================] - 7s 18ms/step - loss: 0.0203 - accuracy: 0.9937 - val_loss: 0.1674 - val_accuracy: 0.9509\n",
            "Epoch 10/15\n",
            "405/405 [==============================] - 7s 17ms/step - loss: 0.0213 - accuracy: 0.9927 - val_loss: 0.1571 - val_accuracy: 0.9500\n",
            "Epoch 11/15\n",
            "405/405 [==============================] - 7s 18ms/step - loss: 0.0113 - accuracy: 0.9961 - val_loss: 0.1372 - val_accuracy: 0.9605\n",
            "Epoch 12/15\n",
            "405/405 [==============================] - 7s 17ms/step - loss: 0.0226 - accuracy: 0.9924 - val_loss: 0.1801 - val_accuracy: 0.9583\n",
            "Epoch 13/15\n",
            "405/405 [==============================] - 8s 20ms/step - loss: 0.0196 - accuracy: 0.9940 - val_loss: 0.1407 - val_accuracy: 0.9558\n",
            "Epoch 14/15\n",
            "405/405 [==============================] - 8s 19ms/step - loss: 0.0119 - accuracy: 0.9957 - val_loss: 0.2286 - val_accuracy: 0.9450\n",
            "Epoch 15/15\n",
            "405/405 [==============================] - 7s 18ms/step - loss: 0.0130 - accuracy: 0.9968 - val_loss: 0.1945 - val_accuracy: 0.9549\n"
          ]
        }
      ]
    },
    {
      "cell_type": "code",
      "source": [
        "test_images = []\n",
        "for img_name in os.listdir(image_test_dir):\n",
        "    img_path = os.path.join(image_test_dir, img_name)\n",
        "    img = load_img(img_path, target_size=(image_height, image_width), color_mode='grayscale')\n",
        "    img = img_to_array(img)\n",
        "    test_images.append(img)\n",
        "\n",
        "test_images = np.array(test_images) / 255.0"
      ],
      "metadata": {
        "id": "-S5BlcY9B6lB"
      },
      "execution_count": 27,
      "outputs": []
    },
    {
      "cell_type": "code",
      "source": [
        "val_loss, val_acc = model.evaluate(val_images, val_labels)\n",
        "print(\"Validation loss:\", val_loss)\n",
        "print(\"Validation accuracy:\", val_acc)"
      ],
      "metadata": {
        "colab": {
          "base_uri": "https://localhost:8080/"
        },
        "id": "rPUFeMpaGCbN",
        "outputId": "43ce4718-4698-46c8-8d54-91de3f7cccaf"
      },
      "execution_count": 28,
      "outputs": [
        {
          "output_type": "stream",
          "name": "stdout",
          "text": [
            "102/102 [==============================] - 1s 7ms/step - loss: 0.1945 - accuracy: 0.9549\n",
            "Validation loss: 0.19447648525238037\n",
            "Validation accuracy: 0.9548965096473694\n"
          ]
        }
      ]
    }
  ]
}