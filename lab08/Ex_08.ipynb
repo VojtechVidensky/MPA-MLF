{
  "cells": [
    {
      "cell_type": "markdown",
      "metadata": {
        "id": "view-in-github",
        "colab_type": "text"
      },
      "source": [
        "<a href=\"https://colab.research.google.com/github/VojtechVidensky/MPA-MLF/blob/main/lab08/Ex_08.ipynb\" target=\"_parent\"><img src=\"https://colab.research.google.com/assets/colab-badge.svg\" alt=\"Open In Colab\"/></a>"
      ]
    },
    {
      "cell_type": "markdown",
      "id": "4e658167-a5e2-42c5-9fa6-01f7021fbca4",
      "metadata": {
        "id": "4e658167-a5e2-42c5-9fa6-01f7021fbca4"
      },
      "source": [
        "# MKA-MLF, Lab_08 - RNN"
      ]
    },
    {
      "cell_type": "markdown",
      "source": [
        "Recurrent Neural Networks, are a class of artificial neural networks designed to recognize patterns in sequences of data, such as text, genomes, handwriting, or spoken words. Unlike traditional neural networks, which assume all inputs (and outputs) are independent of each other, RNNs are designed to recognize sequential or temporal patterns, making them especially suited for tasks like language modeling, speech recognition, and time series prediction."
      ],
      "metadata": {
        "id": "F6KltZSGklJQ"
      },
      "id": "F6KltZSGklJQ"
    },
    {
      "cell_type": "markdown",
      "source": [
        "## Exercise 1 - Time Series Forecasting"
      ],
      "metadata": {
        "id": "zheceqk2lMcA"
      },
      "id": "zheceqk2lMcA"
    },
    {
      "cell_type": "markdown",
      "source": [
        "### 1.0 Import Libraries"
      ],
      "metadata": {
        "id": "TzFZTA1DrJbG"
      },
      "id": "TzFZTA1DrJbG"
    },
    {
      "cell_type": "code",
      "source": [
        "import numpy as np\n",
        "import matplotlib.pyplot as plt\n",
        "from keras.models import Sequential\n",
        "from keras.optimizers import Adam\n",
        "from keras.layers import Dense, Flatten, SimpleRNN\n"
      ],
      "metadata": {
        "id": "Whyi3QznnAbG"
      },
      "id": "Whyi3QznnAbG",
      "execution_count": null,
      "outputs": []
    },
    {
      "cell_type": "markdown",
      "source": [
        "### 1.1 Generating dataset"
      ],
      "metadata": {
        "id": "UBqkZx0lrCAP"
      },
      "id": "UBqkZx0lrCAP"
    },
    {
      "cell_type": "code",
      "source": [
        "def generate_time_series(batch_size, n_steps):\n",
        "  freq1, freq2, offsets1, offsets2 = np.random.rand(4, batch_size, 1)\n",
        "  time = np.linspace(0,1,n_steps)\n",
        "\n",
        "  series = 0.5 * np.sin((time - offsets1) * (freq1*10 + 10))\n",
        "  series += 0.2 * np.sin((time - offsets2) * (freq2*20 + 20))\n",
        "  series += 0.1 * (np.random.rand(batch_size, n_steps)- 0.5)\n",
        "  return series[..., np.newaxis].astype(np.float32)"
      ],
      "metadata": {
        "id": "Q_Q3ulmRlS6R"
      },
      "id": "Q_Q3ulmRlS6R",
      "execution_count": null,
      "outputs": []
    },
    {
      "cell_type": "code",
      "source": [
        "data_size = 10000\n",
        "n_steps = 50\n",
        "np.random.seed(0)\n",
        "\n",
        "series = generate_time_series(data_size, n_steps + 1)"
      ],
      "metadata": {
        "id": "p9kt6EQjkfvi"
      },
      "id": "p9kt6EQjkfvi",
      "execution_count": null,
      "outputs": []
    },
    {
      "cell_type": "markdown",
      "source": [
        "### 1.2 Train/Valid/Test split"
      ],
      "metadata": {
        "id": "5neyWb-NrQ98"
      },
      "id": "5neyWb-NrQ98"
    },
    {
      "cell_type": "code",
      "source": [
        "X_train, y_train = series[:7000, :n_steps], series[:7000, -1]\n",
        "X_valid, y_valid = series[7000:9000, :n_steps], series[7000:9000, -1]\n",
        "X_test, y_test = series[9000:, :n_steps], series[9000:, -1]"
      ],
      "metadata": {
        "id": "hPX75BPkmZqk"
      },
      "id": "hPX75BPkmZqk",
      "execution_count": null,
      "outputs": []
    },
    {
      "cell_type": "code",
      "source": [
        "no_training_epochs = 5"
      ],
      "metadata": {
        "id": "0DtVKkwzuoQZ"
      },
      "id": "0DtVKkwzuoQZ",
      "execution_count": null,
      "outputs": []
    },
    {
      "cell_type": "markdown",
      "source": [
        "### 1.3 Data examination"
      ],
      "metadata": {
        "id": "js6Qzm--rXmD"
      },
      "id": "js6Qzm--rXmD"
    },
    {
      "cell_type": "code",
      "source": [
        "plt.figure()\n",
        "plt.plot(X_train[0])\n",
        "plt.plot(n_steps+1, y_train[0], 'rx')"
      ],
      "metadata": {
        "colab": {
          "base_uri": "https://localhost:8080/",
          "height": 447
        },
        "id": "GpXWorBknLSr",
        "outputId": "50843a5e-06cf-4d8d-e5eb-25510dca880b"
      },
      "id": "GpXWorBknLSr",
      "execution_count": null,
      "outputs": [
        {
          "output_type": "execute_result",
          "data": {
            "text/plain": [
              "[<matplotlib.lines.Line2D at 0x7c9b9a330bb0>]"
            ]
          },
          "metadata": {},
          "execution_count": 6
        },
        {
          "output_type": "display_data",
          "data": {
            "text/plain": [
              "<Figure size 640x480 with 1 Axes>"
            ],
            "image/png": "[encoded data removed]"
          },
          "metadata": {}
        }
      ]
    },
    {
      "cell_type": "markdown",
      "source": [
        "### 1.4 Simple Linear model"
      ],
      "metadata": {
        "id": "GvgPXxfBrahC"
      },
      "id": "GvgPXxfBrahC"
    },
    {
      "cell_type": "code",
      "source": [
        "# Model definition\n",
        "model_linear = Sequential()\n",
        "model_linear.add(Flatten(input_shape=(50,1)))\n",
        "model_linear.add(Dense(1, activation = None))"
      ],
      "metadata": {
        "id": "g7izHKRso_an"
      },
      "id": "g7izHKRso_an",
      "execution_count": null,
      "outputs": []
    },
    {
      "cell_type": "code",
      "source": [
        "# Model building\n",
        "\n",
        "learning_rate = 0.001\n",
        "optimizer = Adam(learning_rate)\n",
        "model_linear.compile(loss='mean_squared_error', optimizer=optimizer, metrics=['mean_squared_error'])"
      ],
      "metadata": {
        "id": "csJhWfvypZw7"
      },
      "id": "csJhWfvypZw7",
      "execution_count": null,
      "outputs": []
    },
    {
      "cell_type": "code",
      "source": [
        "model_linear.summary()"
      ],
      "metadata": {
        "colab": {
          "base_uri": "https://localhost:8080/"
        },
        "id": "D3iBcNJQpnMv",
        "outputId": "3d70e554-fb2a-44e7-d388-daa85d00efdf"
      },
      "id": "D3iBcNJQpnMv",
      "execution_count": null,
      "outputs": [
        {
          "output_type": "stream",
          "name": "stdout",
          "text": [
            "Model: \"sequential\"\n",
            "_________________________________________________________________\n",
            " Layer (type)                Output Shape              Param #   \n",
            "=================================================================\n",
            " flatten (Flatten)           (None, 50)                0         \n",
            "                                                                 \n",
            " dense (Dense)               (None, 1)                 51        \n",
            "                                                                 \n",
            "=================================================================\n",
            "Total params: 51 (204.00 Byte)\n",
            "Trainable params: 51 (204.00 Byte)\n",
            "Non-trainable params: 0 (0.00 Byte)\n",
            "_________________________________________________________________\n"
          ]
        }
      ]
    },
    {
      "cell_type": "code",
      "source": [
        "# Model training\n",
        "\n",
        "history_linear = model_linear.fit(X_train, y_train, epochs=no_training_epochs, validation_data=[X_valid, y_valid])"
      ],
      "metadata": {
        "colab": {
          "base_uri": "https://localhost:8080/"
        },
        "id": "GGZMF0d9pmbv",
        "outputId": "ecd0275f-0fc3-4786-bcdf-af5ef72ea9b3"
      },
      "id": "GGZMF0d9pmbv",
      "execution_count": null,
      "outputs": [
        {
          "output_type": "stream",
          "name": "stdout",
          "text": [
            "Epoch 1/5\n",
            "219/219 [==============================] - 4s 4ms/step - loss: 0.4351 - mean_squared_error: 0.4351 - val_loss: 0.1171 - val_mean_squared_error: 0.1171\n",
            "Epoch 2/5\n",
            "219/219 [==============================] - 1s 3ms/step - loss: 0.0739 - mean_squared_error: 0.0739 - val_loss: 0.0548 - val_mean_squared_error: 0.0548\n",
            "Epoch 3/5\n",
            "219/219 [==============================] - 1s 3ms/step - loss: 0.0453 - mean_squared_error: 0.0453 - val_loss: 0.0381 - val_mean_squared_error: 0.0381\n",
            "Epoch 4/5\n",
            "219/219 [==============================] - 1s 3ms/step - loss: 0.0330 - mean_squared_error: 0.0330 - val_loss: 0.0283 - val_mean_squared_error: 0.0283\n",
            "Epoch 5/5\n",
            "219/219 [==============================] - 1s 3ms/step - loss: 0.0251 - mean_squared_error: 0.0251 - val_loss: 0.0217 - val_mean_squared_error: 0.0217\n"
          ]
        }
      ]
    },
    {
      "cell_type": "code",
      "source": [
        "def plot_function(history):\n",
        "  plt.figure()\n",
        "\n",
        "  plt.plot(history.history['loss'], label='loss')\n",
        "  plt.plot(history.history['val_loss'], label='validation_loss')\n",
        "  plt.legend()\n",
        "  plt.grid()\n",
        "  plt.xlim([0,no_training_epochs-1])\n",
        "  plt.xlabel('epochs')"
      ],
      "metadata": {
        "id": "t9IahRnYqSi4"
      },
      "id": "t9IahRnYqSi4",
      "execution_count": null,
      "outputs": []
    },
    {
      "cell_type": "code",
      "source": [
        "plot_function(history_linear)"
      ],
      "metadata": {
        "colab": {
          "base_uri": "https://localhost:8080/",
          "height": 449
        },
        "id": "wMAEXxYiwKYo",
        "outputId": "99796d8b-7f03-4d2f-9573-ae77dde3ee6b"
      },
      "id": "wMAEXxYiwKYo",
      "execution_count": null,
      "outputs": [
        {
          "output_type": "display_data",
          "data": {
            "text/plain": [
              "<Figure size 640x480 with 1 Axes>"
            ],
            "image/png": "[encoded data removed]"
          },
          "metadata": {}
        }
      ]
    },
    {
      "cell_type": "code",
      "source": [
        "score = model_linear.evaluate(X_test, y_test, verbose=0)\n",
        "print('Test loss:', score[0])\n",
        "print(f'Test MSE: ', score[1])"
      ],
      "metadata": {
        "colab": {
          "base_uri": "https://localhost:8080/"
        },
        "id": "nKnuXHSSqV8n",
        "outputId": "a81a3290-ea89-4073-8867-627adfb454f7"
      },
      "id": "nKnuXHSSqV8n",
      "execution_count": null,
      "outputs": [
        {
          "output_type": "stream",
          "name": "stdout",
          "text": [
            "Test loss: 0.022131629288196564\n",
            "Test MSE:  0.022131629288196564\n"
          ]
        }
      ]
    },
    {
      "cell_type": "markdown",
      "source": [
        "### 1.5 Simple RNN Model"
      ],
      "metadata": {
        "id": "odHZYob8rf4B"
      },
      "id": "odHZYob8rf4B"
    },
    {
      "cell_type": "code",
      "source": [
        "model_simple_rnn = Sequential()\n",
        "model_simple_rnn.add(SimpleRNN(1, input_shape=[50, 1]))"
      ],
      "metadata": {
        "id": "jRSMY-2GrAI5"
      },
      "id": "jRSMY-2GrAI5",
      "execution_count": null,
      "outputs": []
    },
    {
      "cell_type": "code",
      "source": [
        "learning_rate_simple_rnn = 0.001\n",
        "optimizer_simple_rnn = Adam(learning_rate_simple_rnn)\n",
        "model_simple_rnn.compile(loss='mean_squared_error', optimizer=optimizer_simple_rnn, metrics=['mean_squared_error'])"
      ],
      "metadata": {
        "id": "a4O10LpTtPun"
      },
      "id": "a4O10LpTtPun",
      "execution_count": null,
      "outputs": []
    },
    {
      "cell_type": "code",
      "source": [
        "history_simple_rnn = model_simple_rnn.fit(X_train, y_train, epochs=no_training_epochs, validation_data=[X_valid, y_valid])"
      ],
      "metadata": {
        "colab": {
          "base_uri": "https://localhost:8080/"
        },
        "id": "kvkCnmGDtaSo",
        "outputId": "b95fdeca-f8bb-4e46-f27e-0bc31795ab9b"
      },
      "id": "kvkCnmGDtaSo",
      "execution_count": null,
      "outputs": [
        {
          "output_type": "stream",
          "name": "stdout",
          "text": [
            "Epoch 1/5\n",
            "219/219 [==============================] - 11s 40ms/step - loss: 0.0533 - mean_squared_error: 0.0533 - val_loss: 0.0415 - val_mean_squared_error: 0.0415\n",
            "Epoch 2/5\n",
            "219/219 [==============================] - 8s 35ms/step - loss: 0.0350 - mean_squared_error: 0.0350 - val_loss: 0.0271 - val_mean_squared_error: 0.0271\n",
            "Epoch 3/5\n",
            "219/219 [==============================] - 8s 36ms/step - loss: 0.0230 - mean_squared_error: 0.0230 - val_loss: 0.0182 - val_mean_squared_error: 0.0182\n",
            "Epoch 4/5\n",
            "219/219 [==============================] - 7s 30ms/step - loss: 0.0160 - mean_squared_error: 0.0160 - val_loss: 0.0137 - val_mean_squared_error: 0.0137\n",
            "Epoch 5/5\n",
            "219/219 [==============================] - 8s 35ms/step - loss: 0.0128 - mean_squared_error: 0.0128 - val_loss: 0.0120 - val_mean_squared_error: 0.0120\n"
          ]
        }
      ]
    },
    {
      "cell_type": "code",
      "source": [
        "plot_function(history_simple_rnn)"
      ],
      "metadata": {
        "id": "a7b9ss0XJLUs",
        "colab": {
          "base_uri": "https://localhost:8080/",
          "height": 449
        },
        "outputId": "f976ceae-c66a-4a4c-82a4-4fcc1ce5c7cd"
      },
      "id": "a7b9ss0XJLUs",
      "execution_count": null,
      "outputs": [
        {
          "output_type": "display_data",
          "data": {
            "text/plain": [
              "<Figure size 640x480 with 1 Axes>"
            ],
            "image/png": "[encoded data removed]"
          },
          "metadata": {}
        }
      ]
    },
    {
      "cell_type": "markdown",
      "source": [
        "### 1.5 Deep RNN Model"
      ],
      "metadata": {
        "id": "NxaXF_ZKuMSN"
      },
      "id": "NxaXF_ZKuMSN"
    },
    {
      "cell_type": "code",
      "source": [
        "model_deep_rnn = Sequential()\n",
        "model_deep_rnn.add(SimpleRNN(20, return_sequences = True, input_shape=[50, 1]))\n",
        "model_deep_rnn.add(SimpleRNN(20, return_sequences = True))\n",
        "model_deep_rnn.add(SimpleRNN(1, input_shape=[50, 1]))"
      ],
      "metadata": {
        "id": "Vf6SRKUGtgQU"
      },
      "id": "Vf6SRKUGtgQU",
      "execution_count": null,
      "outputs": []
    },
    {
      "cell_type": "code",
      "source": [
        "learning_rate_deep_rnn = 0.001\n",
        "optimizer_deep_rnn = Adam(learning_rate_deep_rnn)\n",
        "model_deep_rnn.compile(loss='mean_squared_error', optimizer=optimizer_deep_rnn, metrics=['mean_squared_error'])"
      ],
      "metadata": {
        "id": "rykrG5VXuZ6s"
      },
      "id": "rykrG5VXuZ6s",
      "execution_count": null,
      "outputs": []
    },
    {
      "cell_type": "code",
      "source": [
        "history_deep_rnn = model_deep_rnn.fit(X_train, y_train, epochs=no_training_epochs, validation_data=[X_valid, y_valid])"
      ],
      "metadata": {
        "colab": {
          "base_uri": "https://localhost:8080/"
        },
        "id": "TX-nr2jOuhIm",
        "outputId": "952636a9-a2c6-4cc5-84a2-76dc0e86aeee"
      },
      "id": "TX-nr2jOuhIm",
      "execution_count": null,
      "outputs": [
        {
          "output_type": "stream",
          "name": "stdout",
          "text": [
            "Epoch 1/5\n",
            "219/219 [==============================] - 31s 128ms/step - loss: 0.0536 - mean_squared_error: 0.0536 - val_loss: 0.0058 - val_mean_squared_error: 0.0058\n",
            "Epoch 2/5\n",
            "219/219 [==============================] - 29s 131ms/step - loss: 0.0054 - mean_squared_error: 0.0054 - val_loss: 0.0043 - val_mean_squared_error: 0.0043\n",
            "Epoch 3/5\n",
            "219/219 [==============================] - 27s 125ms/step - loss: 0.0045 - mean_squared_error: 0.0045 - val_loss: 0.0049 - val_mean_squared_error: 0.0049\n",
            "Epoch 4/5\n",
            "219/219 [==============================] - 27s 123ms/step - loss: 0.0041 - mean_squared_error: 0.0041 - val_loss: 0.0035 - val_mean_squared_error: 0.0035\n",
            "Epoch 5/5\n",
            "219/219 [==============================] - 27s 123ms/step - loss: 0.0039 - mean_squared_error: 0.0039 - val_loss: 0.0040 - val_mean_squared_error: 0.0040\n"
          ]
        }
      ]
    },
    {
      "cell_type": "code",
      "source": [
        "score = model_deep_rnn.evaluate(X_test, y_test, verbose=0)\n",
        "print('Test loss:', score[0])\n",
        "print(f'Test MSE: ', score[1])"
      ],
      "metadata": {
        "colab": {
          "base_uri": "https://localhost:8080/"
        },
        "id": "W2JOVZAlw2I6",
        "outputId": "161e819d-0971-4eaf-c55b-bffe709ab09c"
      },
      "id": "W2JOVZAlw2I6",
      "execution_count": null,
      "outputs": [
        {
          "output_type": "stream",
          "name": "stdout",
          "text": [
            "Test loss: 0.004144823644310236\n",
            "Test MSE:  0.004144823644310236\n"
          ]
        }
      ]
    },
    {
      "cell_type": "code",
      "source": [
        "plot_function(history_simple_rnn)"
      ],
      "metadata": {
        "id": "h-RBk92nJSXt",
        "colab": {
          "base_uri": "https://localhost:8080/",
          "height": 449
        },
        "outputId": "b855f718-9459-4e9c-be25-8f6e5bad1f50"
      },
      "id": "h-RBk92nJSXt",
      "execution_count": null,
      "outputs": [
        {
          "output_type": "display_data",
          "data": {
            "text/plain": [
              "<Figure size 640x480 with 1 Axes>"
            ],
            "image/png": "[encoded data removed]"
          },
          "metadata": {}
        }
      ]
    },
    {
      "cell_type": "markdown",
      "source": [
        "## Exercise 2 - The movie review\n",
        "\n",
        "\n"
      ],
      "metadata": {
        "id": "YKleL3gVxWhk"
      },
      "id": "YKleL3gVxWhk"
    },
    {
      "cell_type": "markdown",
      "source": [
        "Based on the written rewiev, classify if the movie if good or bad"
      ],
      "metadata": {
        "id": "nGOfR9_RI27U"
      },
      "id": "nGOfR9_RI27U"
    },
    {
      "cell_type": "markdown",
      "source": [
        "### 2.0 - Import libraries"
      ],
      "metadata": {
        "id": "DeJiO_Vxxz7P"
      },
      "id": "DeJiO_Vxxz7P"
    },
    {
      "cell_type": "code",
      "execution_count": null,
      "id": "JyIAVnPUlfak",
      "metadata": {
        "id": "JyIAVnPUlfak"
      },
      "outputs": [],
      "source": [
        "from keras.preprocessing.text import Tokenizer\n",
        "import keras\n",
        "import numpy as np\n",
        "from keras.models import Sequential\n",
        "from keras.layers import LSTM, Dense, Embedding, SimpleRNN, GRU\n",
        "from keras.preprocessing.sequence import pad_sequences\n",
        "import matplotlib.pyplot as plt\n",
        "from keras.optimizers import Adam\n",
        "import tensorflow as tf"
      ]
    },
    {
      "cell_type": "markdown",
      "source": [
        "### 2.1 - Load dataset"
      ],
      "metadata": {
        "id": "_ebMTkFqx65l"
      },
      "id": "_ebMTkFqx65l"
    },
    {
      "cell_type": "code",
      "execution_count": null,
      "id": "zHTtEPlsq85X",
      "metadata": {
        "id": "zHTtEPlsq85X",
        "colab": {
          "base_uri": "https://localhost:8080/"
        },
        "outputId": "84a8cfbd-6f5c-4cc9-b01c-de081c367837"
      },
      "outputs": [
        {
          "output_type": "stream",
          "name": "stdout",
          "text": [
            "Downloading data from https://storage.googleapis.com/tensorflow/tf-keras-datasets/imdb.npz\n",
            "17464789/17464789 [==============================] - 1s 0us/step\n"
          ]
        }
      ],
      "source": [
        "(X_train, y_train), (X_test, y_test) = keras.datasets.imdb.load_data()"
      ]
    },
    {
      "cell_type": "markdown",
      "source": [
        "### 2.2 - Dataset examination"
      ],
      "metadata": {
        "id": "K6UogxMDx_Y-"
      },
      "id": "K6UogxMDx_Y-"
    },
    {
      "cell_type": "code",
      "source": [
        "word_index = keras.datasets.imdb.get_word_index()\n",
        "id_to_word = {id_ + 3:word for word, id_ in word_index.items()}\n",
        "for id_, token in enumerate((\"<pad>\", \"<sos>\", \"<unk>\")):\n",
        "  id_to_word[id_] = token"
      ],
      "metadata": {
        "id": "9jLwcwPxyTD5",
        "colab": {
          "base_uri": "https://localhost:8080/"
        },
        "outputId": "96a4ba84-732b-40c8-a9fa-1c2cf92fe8c2"
      },
      "id": "9jLwcwPxyTD5",
      "execution_count": null,
      "outputs": [
        {
          "output_type": "stream",
          "name": "stdout",
          "text": [
            "Downloading data from https://storage.googleapis.com/tensorflow/tf-keras-datasets/imdb_word_index.json\n",
            "1641221/1641221 [==============================] - 1s 0us/step\n"
          ]
        }
      ]
    },
    {
      "cell_type": "code",
      "source": [
        "single_sequence = \" \".join([id_to_word[id_] for id_ in X_train[0][:]])"
      ],
      "metadata": {
        "id": "c8yXphQIyXZB"
      },
      "id": "c8yXphQIyXZB",
      "execution_count": null,
      "outputs": []
    },
    {
      "cell_type": "code",
      "source": [
        "single_sequence"
      ],
      "metadata": {
        "colab": {
          "base_uri": "https://localhost:8080/",
          "height": 105
        },
        "id": "h_1cpznZC70B",
        "outputId": "32ffa4eb-9e1d-4806-91d3-468556356262"
      },
      "id": "h_1cpznZC70B",
      "execution_count": null,
      "outputs": [
        {
          "output_type": "execute_result",
          "data": {
            "text/plain": [
              "\"<sos> this film was just brilliant casting location scenery story direction everyone's really suited the part they played and you could just imagine being there robert redford's is an amazing actor and now the same being director norman's father came from the same scottish island as myself so i loved the fact there was a real connection with this film the witty remarks throughout the film were great it was just brilliant so much that i bought the film as soon as it was released for retail and would recommend it to everyone to watch and the fly fishing was amazing really cried at the end it was so sad and you know what they say if you cry at a film it must have been good and this definitely was also congratulations to the two little boy's that played the part's of norman and paul they were just brilliant children are often left out of the praising list i think because the stars that play them all grown up are such a big profile for the whole film but these children are amazing and should be praised for what they have done don't you think the whole story was so lovely because it was true and was someone's life after all that was shared with us all\""
            ],
            "application/vnd.google.colaboratory.intrinsic+json": {
              "type": "string"
            }
          },
          "metadata": {},
          "execution_count": 29
        }
      ]
    },
    {
      "cell_type": "code",
      "execution_count": null,
      "id": "4vRZPUGr3w_m",
      "metadata": {
        "id": "4vRZPUGr3w_m"
      },
      "outputs": [],
      "source": [
        "max_length = 150  # Define the maximum length of a review\n",
        "X_train = keras.preprocessing.sequence.pad_sequences(X_train, maxlen=max_length, padding='post', truncating='post', value=0)\n",
        "X_test = keras.preprocessing.sequence.pad_sequences(X_test, maxlen=max_length, padding='post', truncating='post', value=0)"
      ]
    },
    {
      "cell_type": "code",
      "execution_count": null,
      "id": "NhzI5klo1pYp",
      "metadata": {
        "id": "NhzI5klo1pYp"
      },
      "outputs": [],
      "source": [
        "embed_size = 128\n",
        "vocabulary_size = 1000\n",
        "\n",
        "model = keras.models.Sequential([\n",
        "    keras.layers.Embedding(vocabulary_size, embed_size,\n",
        "                           input_shape=[None]),\n",
        "    tf.keras.layers.GRU(64, return_sequences=True),\n",
        "    tf.keras.layers.GRU(32, return_sequences=True),\n",
        "    tf.keras.layers.GRU(16),\n",
        "    tf.keras.layers.Dense(1, activation='sigmoid')\n",
        "    #keras.layers.SimpleRNN(128, return_sequences=True),\n",
        "    #keras.layers.SimpleRNN(128),\n",
        "    #keras.layers.Dense(1, activation='sigmoid')\n",
        "    ])\n"
      ]
    },
    {
      "cell_type": "code",
      "execution_count": null,
      "id": "lCz9ZWgNbhaZ",
      "metadata": {
        "id": "lCz9ZWgNbhaZ"
      },
      "outputs": [],
      "source": [
        "optimizer = Adam(learning_rate = 0.0001)"
      ]
    },
    {
      "cell_type": "code",
      "execution_count": null,
      "id": "7fdxNF0h28jf",
      "metadata": {
        "id": "7fdxNF0h28jf"
      },
      "outputs": [],
      "source": [
        "model.compile(loss=\"binary_crossentropy\", optimizer=optimizer, metrics=[\"accuracy\"])"
      ]
    },
    {
      "cell_type": "code",
      "execution_count": null,
      "id": "lIVFi9qT3gzy",
      "metadata": {
        "colab": {
          "base_uri": "https://localhost:8080/"
        },
        "id": "lIVFi9qT3gzy",
        "outputId": "6ececc76-75ed-4387-f046-b1d9bbad096f"
      },
      "outputs": [
        {
          "output_type": "stream",
          "name": "stdout",
          "text": [
            "Epoch 1/8\n",
            "625/625 [==============================] - 63s 58ms/step - loss: 0.2255 - accuracy: 0.9108 - val_loss: 0.4636 - val_accuracy: 0.8220\n",
            "Epoch 2/8\n",
            "625/625 [==============================] - 16s 26ms/step - loss: 0.2191 - accuracy: 0.9133 - val_loss: 0.4729 - val_accuracy: 0.8220\n",
            "Epoch 3/8\n",
            "625/625 [==============================] - 14s 23ms/step - loss: 0.2135 - accuracy: 0.9157 - val_loss: 0.4829 - val_accuracy: 0.8226\n",
            "Epoch 4/8\n",
            "625/625 [==============================] - 15s 24ms/step - loss: 0.2088 - accuracy: 0.9187 - val_loss: 0.4921 - val_accuracy: 0.8208\n",
            "Epoch 5/8\n",
            "625/625 [==============================] - 13s 21ms/step - loss: 0.2037 - accuracy: 0.9225 - val_loss: 0.4936 - val_accuracy: 0.8198\n",
            "Epoch 6/8\n",
            "625/625 [==============================] - 13s 21ms/step - loss: 0.1989 - accuracy: 0.9248 - val_loss: 0.4974 - val_accuracy: 0.8200\n",
            "Epoch 7/8\n",
            "625/625 [==============================] - 12s 19ms/step - loss: 0.1945 - accuracy: 0.9279 - val_loss: 0.5173 - val_accuracy: 0.8164\n",
            "Epoch 8/8\n",
            "625/625 [==============================] - 13s 21ms/step - loss: 0.1898 - accuracy: 0.9298 - val_loss: 0.5237 - val_accuracy: 0.8154\n"
          ]
        }
      ],
      "source": [
        "history = model.fit(X_train, y_train, epochs=8, validation_split=0.2)"
      ]
    },
    {
      "cell_type": "code",
      "source": [
        "score = model.evaluate(X_test, y_test, verbose=0)\n",
        "print('Test loss:', score[0])\n",
        "print(f'Test accuracy: ', score[1]*100, \"%\")"
      ],
      "metadata": {
        "colab": {
          "base_uri": "https://localhost:8080/"
        },
        "id": "69zrgeNHIau6",
        "outputId": "097791f1-0fb7-4a10-8095-96c6955ac9ed"
      },
      "id": "69zrgeNHIau6",
      "execution_count": null,
      "outputs": [
        {
          "output_type": "stream",
          "name": "stdout",
          "text": [
            "Test loss: 0.42025989294052124\n",
            "Test accuracy:  82.3199987411499 %\n"
          ]
        }
      ]
    },
    {
      "cell_type": "markdown",
      "source": [
        "TASK: Modify structure, change the core of the network from RNN to LTSM and GRU. Compare the results\n",
        "\n",
        "Results for RNN model was 50% of accuracy\n",
        "\n",
        "Results for LSTM model was 80.9% of accuracy\n",
        "\n",
        "Results for GRU model was 82.4% of accuracy\n",
        "\n",
        "All model was tested with same settings. For the LSTM and GRU model need to be imported tensorflow and the model has sam estructure for both.\n"
      ],
      "metadata": {
        "id": "ZtA1O3R1RArG"
      },
      "id": "ZtA1O3R1RArG"
    }
  ],
  "metadata": {
    "accelerator": "GPU",
    "colab": {
      "gpuType": "T4",
      "provenance": [],
      "include_colab_link": true
    },
    "kernelspec": {
      "display_name": "Python 3",
      "name": "python3"
    },
    "language_info": {
      "codemirror_mode": {
        "name": "ipython",
        "version": 3
      },
      "file_extension": ".py",
      "mimetype": "text/x-python",
      "name": "python",
      "nbconvert_exporter": "python",
      "pygments_lexer": "ipython3",
      "version": "3.10.12"
    }
  },
  "nbformat": 4,
  "nbformat_minor": 5
}